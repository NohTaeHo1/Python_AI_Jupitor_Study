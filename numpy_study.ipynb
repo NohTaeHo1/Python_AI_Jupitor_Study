{
 "cells": [
  {
   "cell_type": "code",
   "execution_count": 4,
   "id": "faa3f58a-8b5b-4115-b070-bcc0bae64f19",
   "metadata": {},
   "outputs": [],
   "source": [
    "import numpy as np\n",
    "import pandas\n",
    "import matplotlib.pyplot\n",
    "import seaborn"
   ]
  },
  {
   "cell_type": "markdown",
   "id": "09d56c57-c818-40d0-896d-c555484dac98",
   "metadata": {},
   "source": [
    "<span style='color:red'>\n",
    "단일 넘파이 array는 반드시 단일 sequence를 넣어야함! </br>\n",
    "np.array([1, 2, 3], [2, 3, 4]) : 틀림</br>\n",
    "np.array([[1, 2, 3], [2, 3, 4]]) : 맞음</br>\n",
    ".shape : 차원과 크기를 튜플로 달려줌 -> (row, columns)\n",
    "</span>"
   ]
  },
  {
   "cell_type": "code",
   "execution_count": 6,
   "id": "cb7f2e1f-e3c2-4dfa-b91f-8cca8e9bbe04",
   "metadata": {},
   "outputs": [
    {
     "name": "stdout",
     "output_type": "stream",
     "text": [
      "array1 type: <class 'numpy.ndarray'>\n",
      "array1 array 형태: (3,)\n",
      "array2 type: <class 'numpy.ndarray'>\n",
      "array2 array 형태: (2, 3)\n",
      "array3 type: <class 'numpy.ndarray'>\n",
      "array3 array 형태: (1, 3)\n"
     ]
    }
   ],
   "source": [
    "array1 = np.array([1, 2, 3])\n",
    "print('array1 type:', type(array1))\n",
    "print('array1 array 형태:', array1.shape)\n",
    "\n",
    "array2 = np.array([[1, 2, 3], [2, 3, 4]])\n",
    "print('array2 type:', type(array2))\n",
    "print('array2 array 형태:', array2.shape)\n",
    "\n",
    "array3 = np.array([[1, 2, 3]])\n",
    "print('array3 type:', type(array3))\n",
    "print('array3 array 형태:', array3.shape)"
   ]
  },
  {
   "cell_type": "markdown",
   "id": "ded5eb95-93f4-4b7b-b504-2e0d2c7d90a1",
   "metadata": {},
   "source": [
    "<span style='color:red'>\n",
    "array1 : 1차원의 데이터 3개 </br>\n",
    "array2 : 2차원의 2row * 3columns</br>\n",
    "array3 : 2차원의 1행 * 3열\n",
    "</span>"
   ]
  },
  {
   "cell_type": "markdown",
   "id": "e9c39353-7a5e-474d-957d-f1afa42b775c",
   "metadata": {},
   "source": [
    "<span style='color:blue'>\n",
    "차원의 확인 .ndim </span>"
   ]
  },
  {
   "cell_type": "code",
   "execution_count": 10,
   "id": "e800e035-9fcf-4d10-b576-ae6ed162dd45",
   "metadata": {},
   "outputs": [
    {
     "name": "stdout",
     "output_type": "stream",
     "text": [
      "array1 : 1차원, array2: 2차원, array3: 2차원\n",
      "array1 : 1차원, array2: 2차원, array3: 2차원\n"
     ]
    }
   ],
   "source": [
    "print('array1 : {0}차원, array2: {1}차원, array3: {2}차원'.format(array1.ndim, array2.ndim, array3.ndim))\n",
    "print(f'array1 : {array1.ndim}차원, array2: {array2.ndim}차원, array3: {array3.ndim}차원')"
   ]
  },
  {
   "cell_type": "markdown",
   "id": "0458f767-d7b0-4d17-a89d-b7da6e94371c",
   "metadata": {},
   "source": [
    "<span style='color:green'>\n",
    "데이터 타입 확인 .dtype\n",
    "</span>"
   ]
  },
  {
   "cell_type": "code",
   "execution_count": 11,
   "id": "01095d22-9268-41e1-81aa-5a09054c7c12",
   "metadata": {},
   "outputs": [
    {
     "name": "stdout",
     "output_type": "stream",
     "text": [
      "<class 'list'>\n",
      "<class 'numpy.ndarray'>\n",
      "[1 2 3] int32\n"
     ]
    }
   ],
   "source": [
    "list1 = [1, 2, 3]\n",
    "print(type(list1))\n",
    "array1 = np.array(list1)\n",
    "print(type(array1))\n",
    "print(array1, array1.dtype)"
   ]
  },
  {
   "cell_type": "markdown",
   "id": "a39006ff-c0a8-411b-8815-d1cfa1764d25",
   "metadata": {},
   "source": [
    "<span style='color:green'>\n",
    "다른 데이터 유형이 섞여있는 리스트를 ndarray로 변환 => 더 큰 데이터 타입으로 일괄 적용\n",
    "</span>"
   ]
  },
  {
   "cell_type": "code",
   "execution_count": 12,
   "id": "0d5f8215-2e28-49bf-b777-e87f1fbf70d9",
   "metadata": {},
   "outputs": [
    {
     "name": "stdout",
     "output_type": "stream",
     "text": [
      "['1' '2' 'test'] <U11\n",
      "[1. 2. 3.] float64\n"
     ]
    }
   ],
   "source": [
    "list2 = [1, 2, 'test']\n",
    "array2 = np.array(list2)\n",
    "print(array2, array2.dtype)\n",
    "\n",
    "list3 = [1, 2, 3.0]\n",
    "array3 = np.array(list3)\n",
    "print(array3, array3.dtype)"
   ]
  },
  {
   "cell_type": "markdown",
   "id": "cc9aee62-0ac8-4b50-aed3-bbe618ef8fe0",
   "metadata": {},
   "source": [
    "<span style='color:green'>\n",
    ".astype() : 타입변환 / 메모리 절약할 때!\n",
    "</span>"
   ]
  },
  {
   "cell_type": "code",
   "execution_count": 13,
   "id": "f9171239-2d65-41b5-9df3-fd7e719e695b",
   "metadata": {},
   "outputs": [
    {
     "name": "stdout",
     "output_type": "stream",
     "text": [
      "[1. 2. 3.] float64\n",
      "[1 2 3] int32\n",
      "[1 2 3] int32\n"
     ]
    }
   ],
   "source": [
    "array_int = np.array([1, 2, 3])\n",
    "array_float = array_int.astype('float64')\n",
    "print(array_float, array_float.dtype)\n",
    "\n",
    "array_int1 = array_float.astype('int32')\n",
    "print(array_int1, array_int1.dtype)\n",
    "\n",
    "array_float1 = np.array([1.1, 2.1, 3.1])\n",
    "array_int2 = array_float1.astype('int32')\n",
    "print(array_int2, array_int2.dtype)"
   ]
  },
  {
   "cell_type": "markdown",
   "id": "85b72d93-d0fb-4ccb-ab49-f8be8ff57a82",
   "metadata": {},
   "source": [
    "<span style='color:green'>\n",
    "ndarray 기본으로 생성 - np.arrange(), np.zeros(), np.ones()<br>\n",
    "    arrange()는 파이썬 기본 arrange()와 사용법 똑같음 <br>\n",
    "    zeros와 ones는 .shape의 결과의 형태를 적어줘서 만듦\n",
    "    zeros와 ones의 default dtype이 float64\n",
    "</span>"
   ]
  },
  {
   "cell_type": "code",
   "execution_count": 16,
   "id": "b5d153d8-2135-41fe-baa1-abc9ed3b81d7",
   "metadata": {},
   "outputs": [
    {
     "name": "stdout",
     "output_type": "stream",
     "text": [
      "[1 3 5 7 9] int32 (5,)\n",
      "[[0 0]\n",
      " [0 0]\n",
      " [0 0]] int32 (3, 2)\n",
      "[[1. 1.]\n",
      " [1. 1.]\n",
      " [1. 1.]] float64 (3, 2)\n"
     ]
    }
   ],
   "source": [
    "sequence_array = np.arange(1, 10, 2)\n",
    "print(sequence_array, sequence_array.dtype, sequence_array.shape)\n",
    "\n",
    "zero_array = np.zeros((3, 2), dtype='int32')\n",
    "print(zero_array, zero_array.dtype, zero_array.shape)\n",
    "\n",
    "one_array = np.ones((3, 2))\n",
    "print(one_array, one_array.dtype, one_array.shape)"
   ]
  },
  {
   "cell_type": "markdown",
   "id": "2bc15807-e7a9-468b-8195-69486fb3b63b",
   "metadata": {},
   "source": [
    "<span style='color:green'>\n",
    "shape변경 .reshape(row, column)<br>\n",
    "    전체 크기 안맞게 바꾸면 오류\n",
    "</span>"
   ]
  },
  {
   "cell_type": "code",
   "execution_count": 18,
   "id": "b296b004-8471-4cf0-9c57-efc234f013ad",
   "metadata": {},
   "outputs": [
    {
     "name": "stdout",
     "output_type": "stream",
     "text": [
      "array1: [0 1 2 3 4 5 6 7 8 9]\n",
      "array2:\n",
      " [[0 1 2 3 4]\n",
      " [5 6 7 8 9]]\n",
      "array3:\n",
      " [[0 1]\n",
      " [2 3]\n",
      " [4 5]\n",
      " [6 7]\n",
      " [8 9]]\n"
     ]
    }
   ],
   "source": [
    "array1 = np.arange(10)\n",
    "print('array1:', array1)\n",
    "\n",
    "array2 = array1.reshape(2,5)\n",
    "print('array2:\\n',array2)\n",
    "\n",
    "array3 = array1.reshape(5,2)\n",
    "print('array3:\\n',array3)"
   ]
  },
  {
   "cell_type": "code",
   "execution_count": 19,
   "id": "be9550bd-d958-4b61-9c50-632a7d77fcc0",
   "metadata": {},
   "outputs": [
    {
     "ename": "ValueError",
     "evalue": "cannot reshape array of size 10 into shape (4,3)",
     "output_type": "error",
     "traceback": [
      "\u001b[1;31m---------------------------------------------------------------------------\u001b[0m",
      "\u001b[1;31mValueError\u001b[0m                                Traceback (most recent call last)",
      "Cell \u001b[1;32mIn[19], line 1\u001b[0m\n\u001b[1;32m----> 1\u001b[0m array1\u001b[38;5;241m.\u001b[39mreshape(\u001b[38;5;241m4\u001b[39m,\u001b[38;5;241m3\u001b[39m)\n",
      "\u001b[1;31mValueError\u001b[0m: cannot reshape array of size 10 into shape (4,3)"
     ]
    }
   ],
   "source": [
    "array1.reshape(4,3)"
   ]
  },
  {
   "cell_type": "markdown",
   "id": "fa2951b8-c6a9-4823-a96c-486eb8d968f4",
   "metadata": {},
   "source": [
    "<span style='color:green'>\n",
    "-1을 쓰면 알맞는 값으로 알아서 넣음!\n",
    "    호환되는 값이 없으면 오류남\n",
    "</span>"
   ]
  },
  {
   "cell_type": "code",
   "execution_count": 20,
   "id": "32c98c2a-688e-49b8-a33a-db56cd390644",
   "metadata": {},
   "outputs": [
    {
     "name": "stdout",
     "output_type": "stream",
     "text": [
      "array2 shape: (2, 5)\n",
      "array3 shape: (5, 2)\n"
     ]
    }
   ],
   "source": [
    "array2 = array1.reshape(-1,5)\n",
    "print('array2 shape:',array2.shape)\n",
    "\n",
    "array3 = array1.reshape(5,-1)\n",
    "print('array3 shape:',array3.shape)"
   ]
  },
  {
   "cell_type": "code",
   "execution_count": 24,
   "id": "f70b96fd-3c57-4bdf-b7ac-fa5f5e78e040",
   "metadata": {},
   "outputs": [
    {
     "name": "stdout",
     "output_type": "stream",
     "text": [
      "array3d:\n",
      " [[[0, 1], [2, 3]], [[4, 5], [6, 7]]]\n",
      "array3 shape: (2, 2, 2)\n",
      "array3 type: <class 'numpy.ndarray'>\n",
      "array3 type: <class 'list'>\n",
      "array5:\n",
      " [[0], [1], [2], [3], [4], [5], [6], [7]]\n",
      "array5 shape: (8, 1)\n",
      "array6:\n",
      " [[0], [1], [2], [3], [4], [5], [6], [7]]\n",
      "array6 shape: (8, 1)\n"
     ]
    }
   ],
   "source": [
    "array1 = np.arange(8)\n",
    "array3d = array1.reshape((2,2,2))\n",
    "# tolist()를 이용해 ndarray를 다시 리스트로 변환 가능\n",
    "print('array3d:\\n',array3d.tolist())\n",
    "print('array3 shape:',array3d.shape)\n",
    "print('array3 type:',type(array3d))\n",
    "print('array3 type:',type(array3d.tolist()))\n",
    "\n",
    "\n",
    "# 3차원 ndarray를 2차원 ndarray로 변환\n",
    "array5 = array3d.reshape(-1,1)\n",
    "print('array5:\\n',array5.tolist())\n",
    "print('array5 shape:',array5.shape)\n",
    "\n",
    "# 1차원 ndarray를 2차원 ndarray로 변환\n",
    "array6 = array1.reshape(-1,1)\n",
    "print('array6:\\n',array6.tolist())\n",
    "print('array6 shape:',array6.shape)"
   ]
  },
  {
   "cell_type": "markdown",
   "id": "ee38fdc4-58ea-4993-b44b-951dce4dc3a6",
   "metadata": {},
   "source": [
    "<span style='color:blue'>\n",
    "인덱싱 종류 4가지<br>\n",
    "1. 단일값 추출<br>\n",
    "2. 슬라이싱<br>\n",
    "3. Fancy indexing<br>\n",
    "4. Boolean indexing\n",
    "</span>"
   ]
  },
  {
   "cell_type": "code",
   "execution_count": 25,
   "id": "3cf38d54-c871-434d-a40c-661119e5a0ac",
   "metadata": {},
   "outputs": [
    {
     "name": "stdout",
     "output_type": "stream",
     "text": [
      "array1: [ 1  2  3  4  5  6 10  8  9]\n"
     ]
    }
   ],
   "source": [
    "# 단일값 추출\n",
    "array1 = np.arange(start=1, stop=10)\n",
    "# 단일값 수정\n",
    "array1[6] = 10\n",
    "print('array1:',array1)"
   ]
  },
  {
   "cell_type": "code",
   "execution_count": 27,
   "id": "200f5676-bfd1-4685-95e5-fbc074003c1e",
   "metadata": {},
   "outputs": [
    {
     "name": "stdout",
     "output_type": "stream",
     "text": [
      "[1 2 3 4 5 6 7 8 9]\n"
     ]
    }
   ],
   "source": [
    "# 슬라이싱은 익숙하니 아래처럼도 쓸수있다는것만 확인\n",
    "array1 = np.arange(start=1, stop=10)\n",
    "array6 = array1[:]\n",
    "print(array6)"
   ]
  },
  {
   "cell_type": "code",
   "execution_count": 29,
   "id": "10c96a9d-640c-4148-9621-4511c4e61524",
   "metadata": {},
   "outputs": [
    {
     "name": "stdout",
     "output_type": "stream",
     "text": [
      "array2d:\n",
      " [[1 2 3]\n",
      " [4 5 6]\n",
      " [7 8 9]]\n",
      "array2d[1:3, 0:3] :\n",
      " [[4 5 6]\n",
      " [7 8 9]]\n"
     ]
    }
   ],
   "source": [
    "#2차원 ndarray의 인덱싱 : [rows인덱싱, columns인덱싱]\n",
    "array1d = np.arange(start=1, stop=10)\n",
    "array2d = array1d.reshape(3,3)\n",
    "print('array2d:\\n',array2d)\n",
    "print('array2d[1:3, 0:3] :\\n', array2d[1:3, 0:3])"
   ]
  },
  {
   "cell_type": "markdown",
   "id": "0e89daf9-a500-4a04-9a08-4bf1b2d0e8fa",
   "metadata": {},
   "source": [
    "<span style='color:green'>\n",
    "Fancy Indexing : 슬라이스의 표기법을 그냥 리스트 표기로 바꾼 것(섞어쓸 수도 있음)<br>\n",
    "    차이는 인덱스는 범위 a<= x <b' 이지만, list는 'a<= x < b' 거나 a = x임\n",
    "</span>"
   ]
  },
  {
   "cell_type": "code",
   "execution_count": 44,
   "id": "cc343006-55a3-4b87-9f24-cff3c2f0562c",
   "metadata": {},
   "outputs": [
    {
     "name": "stdout",
     "output_type": "stream",
     "text": [
      "array2d :\n",
      " [[1 2 3]\n",
      " [4 5 6]\n",
      " [7 8 9]]\n",
      "array2d[[0,1], 2] : \n",
      " [3 6]\n",
      "array2d[[0,1], 0:2] : \n",
      " [[1 2]\n",
      " [4 5]]\n",
      "array2d[[0,1]] : \n",
      " [[1 2 3]\n",
      " [4 5 6]]\n"
     ]
    }
   ],
   "source": [
    "array1d = np.arange(start=1, stop=10)\n",
    "array2d = array1d.reshape(3,3)\n",
    "\n",
    "print('array2d :\\n', array2d)\n",
    "\n",
    "array3 = array2d[[0,1], 2]\n",
    "print('array2d[[0,1], 2] : \\n',array3)\n",
    "\n",
    "array4 = array2d[[0,1], 0:2]\n",
    "print('array2d[[0,1], 0:2] : \\n',array4)\n",
    "\n",
    "array5 = array2d[[0,1]]\n",
    "print('array2d[[0,1]] : \\n',array5)"
   ]
  },
  {
   "cell_type": "markdown",
   "id": "5a160cf8-42de-46ef-8990-0d93e9bc0d43",
   "metadata": {},
   "source": [
    "<span style='color:green'>\n",
    "불린 인덱싱 : []안에 불린 값으로 넣어놓으면 True인 값만 추출<br>\n",
    "    1. true에 해당하는 인덱스를 추출 -> 2. 인덱스에 해당하는 값을 조회\n",
    "</span>"
   ]
  },
  {
   "cell_type": "code",
   "execution_count": 10,
   "id": "6edaab98-a49f-436b-a06a-d070bb97778b",
   "metadata": {},
   "outputs": [
    {
     "name": "stdout",
     "output_type": "stream",
     "text": [
      "array1d > 5 불린 인덱싱 결과 값 : [6 7 8 9]\n",
      "일반 인덱스로 필터링 결과 : [6 7 8 9]\n"
     ]
    }
   ],
   "source": [
    "array1d = np.arange(start=1, stop=10)\n",
    "array3 = array1d[array1d > 5]\n",
    "print('array1d > 5 불린 인덱싱 결과 값 :', array3)\n",
    "\n",
    "indexes = np.array([5,6,7,8])\n",
    "array4 = array1d[ indexes ]\n",
    "print('일반 인덱스로 필터링 결과 :',array4)"
   ]
  },
  {
   "cell_type": "code",
   "execution_count": 11,
   "id": "b419fbc9-f284-4cdc-8b8b-9eae4c5b3939",
   "metadata": {},
   "outputs": [
    {
     "data": {
      "text/plain": [
       "array([False, False, False, False, False,  True,  True,  True,  True])"
      ]
     },
     "execution_count": 11,
     "metadata": {},
     "output_type": "execute_result"
    }
   ],
   "source": [
    "array1d > 5"
   ]
  },
  {
   "cell_type": "markdown",
   "id": "417da879-0856-4571-ac84-37d1a042f375",
   "metadata": {},
   "source": [
    "<span style='color:green'>\n",
    "1) np.sort() : 넘파이 메서드 호출, 원행렬을 유지한채 정렬한 행렬을 반환<br>\n",
    "2) ndarray.sort() : 행렬자체 메서드 호출, 원행렬 자체를 정렬해서 반환\n",
    "</span>"
   ]
  },
  {
   "cell_type": "code",
   "execution_count": 12,
   "id": "021c8f80-ae18-41cc-ac9f-6b00e01dbb92",
   "metadata": {},
   "outputs": [
    {
     "name": "stdout",
     "output_type": "stream",
     "text": [
      "원본 행렬: [3 1 9 5]\n",
      "np.sort( ) 호출 후 반환된 정렬 행렬: [1 3 5 9]\n",
      "np.sort( ) 호출 후 원본 행렬: [3 1 9 5]\n",
      "org_array.sort( ) 호출 후 반환된 행렬: None\n",
      "org_array.sort( ) 호출 후 원본 행렬: [1 3 5 9]\n"
     ]
    }
   ],
   "source": [
    "org_array = np.array([ 3, 1, 9, 5]) \n",
    "print('원본 행렬:', org_array)\n",
    "\n",
    "sort_array1 = np.sort(org_array)         \n",
    "print ('np.sort( ) 호출 후 반환된 정렬 행렬:', sort_array1) \n",
    "print('np.sort( ) 호출 후 원본 행렬:', org_array)\n",
    "\n",
    "sort_array2 = org_array.sort()\n",
    "print('org_array.sort( ) 호출 후 반환된 행렬:', sort_array2)\n",
    "print('org_array.sort( ) 호출 후 원본 행렬:', org_array)"
   ]
  },
  {
   "cell_type": "markdown",
   "id": "a2dddbf1-13ef-4ff5-a1f6-b8cec519c742",
   "metadata": {},
   "source": [
    "<span style='color:green'>\n",
    "정렬은 기본이 오름차순 // 내림차순은 [::-1]을 뒤에 붙임\n",
    "</span>"
   ]
  },
  {
   "cell_type": "code",
   "execution_count": 13,
   "id": "3accf55e-e9ea-48f7-ada6-634d37ea890b",
   "metadata": {},
   "outputs": [
    {
     "name": "stdout",
     "output_type": "stream",
     "text": [
      "내림차순으로 정렬: [9 5 3 1]\n"
     ]
    }
   ],
   "source": [
    "sort_array1_desc = np.sort(org_array)[::-1]\n",
    "print ('내림차순으로 정렬:', sort_array1_desc) "
   ]
  },
  {
   "cell_type": "markdown",
   "id": "68a0d9b5-cad9-4321-a09a-8ca36455519f",
   "metadata": {},
   "source": [
    "<span style='color:green'>\n",
    "2차원 이상일 경우, y축(로우방향) 정렬:axis=0, x축(컬럼방향) 정렬:axis=1, [::-1]은 공통\n",
    "</span>"
   ]
  },
  {
   "cell_type": "code",
   "execution_count": 14,
   "id": "f3d84304-bf38-4519-b44e-d8ef4aa1c720",
   "metadata": {},
   "outputs": [
    {
     "name": "stdout",
     "output_type": "stream",
     "text": [
      "로우 방향으로 정렬:\n",
      " [[ 7  1]\n",
      " [ 8 12]]\n",
      "컬럼 방향으로 정렬:\n",
      " [[ 8 12]\n",
      " [ 1  7]]\n"
     ]
    }
   ],
   "source": [
    "array2d = np.array([[8, 12], \n",
    "                   [7, 1 ]])\n",
    "\n",
    "sort_array2d_axis0 = np.sort(array2d, axis=0)\n",
    "print('로우 방향으로 정렬:\\n', sort_array2d_axis0)\n",
    "\n",
    "sort_array2d_axis1 = np.sort(array2d, axis=1)\n",
    "print('컬럼 방향으로 정렬:\\n', sort_array2d_axis1)"
   ]
  },
  {
   "cell_type": "markdown",
   "id": "030c9431-0426-4018-9154-1cc83fc72c17",
   "metadata": {},
   "source": [
    "<span style='color:green'>\n",
    "np.argsort(리스트) 동작 순서 : 1) 원본 행렬 인덱스를 추적 2) 정렬된 상태의 인덱스를 ndarray로 추출\n",
    "</span>"
   ]
  },
  {
   "cell_type": "code",
   "execution_count": 15,
   "id": "6b05bd73-db09-4ce2-95f6-5de5d3d31057",
   "metadata": {},
   "outputs": [
    {
     "name": "stdout",
     "output_type": "stream",
     "text": [
      "<class 'numpy.ndarray'>\n",
      "행렬 정렬 시 원본 행렬의 인덱스: [1 0 3 2]\n",
      "행렬 내림차순 정렬 시 원본 행렬의 인덱스: [2 3 0 1]\n"
     ]
    }
   ],
   "source": [
    "org_array = np.array([ 3, 1, 9, 5]) \n",
    "sort_indices = np.argsort(org_array)\n",
    "print(type(sort_indices))\n",
    "print('행렬 정렬 시 원본 행렬의 인덱스:', sort_indices)\n",
    "sort_indices_desc = np.argsort(org_array)[::-1]\n",
    "print('행렬 내림차순 정렬 시 원본 행렬의 인덱스:', sort_indices_desc)"
   ]
  },
  {
   "cell_type": "markdown",
   "id": "1713fd57-2935-439e-a8fd-dcdc71b6ab2d",
   "metadata": {},
   "source": [
    "<span style='color:red'>\n",
    "numpy의 ndarray만 메타 데이터를 가질 수 없음.<br>\n",
    "    즉, 일반적으로 데이터값과 메타데이터의 2개의 ndarray를 만들어야함<br>\n",
    "    만약 값의 순서에 따른 메타데이터를 출력하고 자 한다면<br>\n",
    "1) 값의 ndarray의 np.argsort() 이후<br>\n",
    "2) 해당 인덱스로 메타데이터의 ndarray 출력\n",
    "</span>"
   ]
  },
  {
   "cell_type": "code",
   "execution_count": 17,
   "id": "5146de2d-e8a9-4bb4-bc18-3e08651ee2d1",
   "metadata": {},
   "outputs": [
    {
     "name": "stdout",
     "output_type": "stream",
     "text": [
      "성적 오름차순 정렬 시 score_array의 인덱스: [0 2 1]\n",
      "성적 오름차순으로 name_array의 이름 출력: ['우석' '준호' '현지']\n"
     ]
    }
   ],
   "source": [
    "name_array = np.array(['우석', '현지', '준호'])\n",
    "score_array = np.array(['78', '95', '84'])\n",
    "\n",
    "sort_indices_asc = np.argsort(score_array)\n",
    "print('성적 오름차순 정렬 시 score_array의 인덱스:', sort_indices_asc)\n",
    "print('성적 오름차순으로 name_array의 이름 출력:', name_array[sort_indices_asc])"
   ]
  },
  {
   "cell_type": "markdown",
   "id": "34519666-1b0f-4d0d-8731-cc95ca04035a",
   "metadata": {},
   "source": [
    "<span style='color:red'>\n",
    "행렬 내적 np.dot(A, B) // 2*3 (내적) 3*2 = 2*2 행<br>\n",
    "    - 데이터 변환: 행렬 곱셈은 데이터를 다른 형태로 변환하는 데 사용됩니다.<br> 예를 들어, 이미지 처리에서 이미지를 회전하거나 확대/축소할 때 행렬 곱셈이 사용됩니다.<br>\n",
    "전치 행렬 A -> A^T // np.transpose(A) // 왼쪽위 잡고 180도 돌리기<br>\n",
    " - 1) (AT)T = A   2) (kA)T = kAT   3) (A+B)T = AT + BT   4) (AB)T = BTAT"
   ]
  },
  {
   "cell_type": "code",
   "execution_count": 5,
   "id": "b12e91cd-16f9-4b90-a46f-a06c913d2fe2",
   "metadata": {},
   "outputs": [
    {
     "name": "stdout",
     "output_type": "stream",
     "text": [
      "행렬 내적 결과:\n",
      " [[ 58  64]\n",
      " [139 154]]\n",
      "A의 전치 행렬:\n",
      " [[1 3]\n",
      " [2 4]]\n"
     ]
    }
   ],
   "source": [
    "A = np.array([[1, 2, 3],\n",
    "              [4, 5, 6]])\n",
    "B = np.array([[7, 8],\n",
    "              [9, 10],\n",
    "              [11, 12]])\n",
    "\n",
    "dot_product = np.dot(A, B)\n",
    "print('행렬 내적 결과:\\n', dot_product)\n",
    "\n",
    "A = np.array([[1, 2],\n",
    "              [3, 4]])\n",
    "transpose_mat = np.transpose(A)\n",
    "print('A의 전치 행렬:\\n', transpose_mat)"
   ]
  }
 ],
 "metadata": {
  "kernelspec": {
   "display_name": "Python 3 (ipykernel)",
   "language": "python",
   "name": "python3"
  },
  "language_info": {
   "codemirror_mode": {
    "name": "ipython",
    "version": 3
   },
   "file_extension": ".py",
   "mimetype": "text/x-python",
   "name": "python",
   "nbconvert_exporter": "python",
   "pygments_lexer": "ipython3",
   "version": "3.11.7"
  }
 },
 "nbformat": 4,
 "nbformat_minor": 5
}
